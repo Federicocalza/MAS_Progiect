{
 "cells": [
  {
   "cell_type": "code",
   "execution_count": 2,
   "id": "ed4dce31",
   "metadata": {},
   "outputs": [],
   "source": [
    "from mesa import Agent, Model\n",
    "from mesa.time import RandomActivation\n",
    "from mesa.datacollection import DataCollector\n",
    "import numpy as np\n",
    "from mesa.space import MultiGrid"
   ]
  },
  {
   "cell_type": "markdown",
   "id": "815cb079",
   "metadata": {},
   "source": [
    "SeqGen --> genera le sequenze di amminoacidi nel modello HP\n",
    "ConfAgent --> genera la conformazione iniziale della catena su un reticolo"
   ]
  },
  {
   "cell_type": "code",
   "execution_count": null,
   "id": "259a28a3",
   "metadata": {},
   "outputs": [],
   "source": [
    "class SeqGen(Agent):\n",
    "    def __init__\n",
    "    \n",
    "\n",
    "\n",
    "\n",
    "class ConfAgent(Agent):\n",
    "    def __init__\n",
    "    \n",
    "class GenAgent(Agent):\n",
    "    def __init__\n",
    "    \n",
    "    \n",
    "class HPFoldingModel(Model):"
   ]
  }
 ],
 "metadata": {
  "kernelspec": {
   "display_name": "Python 3",
   "language": "python",
   "name": "python3"
  },
  "language_info": {
   "codemirror_mode": {
    "name": "ipython",
    "version": 3
   },
   "file_extension": ".py",
   "mimetype": "text/x-python",
   "name": "python",
   "nbconvert_exporter": "python",
   "pygments_lexer": "ipython3",
   "version": "3.8.8"
  }
 },
 "nbformat": 4,
 "nbformat_minor": 5
}
