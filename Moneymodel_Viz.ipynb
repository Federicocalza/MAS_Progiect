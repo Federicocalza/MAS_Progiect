{
 "cells": [
  {
   "cell_type": "code",
   "execution_count": null,
   "metadata": {},
   "outputs": [
    {
     "name": "stdout",
     "output_type": "stream",
     "text": [
      "Interface starting at http://127.0.0.1:8521\n",
      "Socket opened!\n",
      "{\"type\":\"reset\"}\n",
      "{\"type\":\"get_step\",\"step\":1}\n"
     ]
    }
   ],
   "source": [
    "from MoneyModel import *\n",
    "from mesa.visualization.modules import CanvasGrid\n",
    "from mesa.visualization.ModularVisualization import ModularServer\n",
    "import nest_asyncio\n",
    "nest_asyncio.apply()\n",
    "\n",
    "\n",
    "def agent_portrayal(agent):\n",
    "    portrayal = {\"Shape\": \"circle\",\n",
    "                 \"Filled\": \"true\",\n",
    "                 \"Layer\": 0,\n",
    "                 \"Color\": \"red\",\n",
    "                 \"r\": 0.5}\n",
    "    return portrayal\n",
    "\n",
    "grid = CanvasGrid(agent_portrayal, 10, 10, 500, 500)\n",
    "server = ModularServer(MoneyModel,\n",
    "                       [grid],\n",
    "                       \"Money Model\",\n",
    "                       {\"N\":100, \"width\":10, \"height\":10})\n",
    "server.port = 8521 # The default\n",
    "server.launch()"
   ]
  },
  {
   "cell_type": "code",
   "execution_count": null,
   "metadata": {},
   "outputs": [],
   "source": []
  }
 ],
 "metadata": {
  "kernelspec": {
   "display_name": "Python 3",
   "language": "python",
   "name": "python3"
  },
  "language_info": {
   "codemirror_mode": {
    "name": "ipython",
    "version": 3
   },
   "file_extension": ".py",
   "mimetype": "text/x-python",
   "name": "python",
   "nbconvert_exporter": "python",
   "pygments_lexer": "ipython3",
   "version": "3.7.4"
  }
 },
 "nbformat": 4,
 "nbformat_minor": 2
}
